{
 "cells": [
  {
   "cell_type": "markdown",
   "metadata": {},
   "source": [
    "# **Lab 4.2 NN MLP and CNN**"
   ]
  },
  {
   "cell_type": "code",
   "execution_count": 1,
   "metadata": {},
   "outputs": [],
   "source": [
    "import torch\n",
    "import torch.nn as nn\n",
    "import torch.nn.functional as F\n",
    "from torch.cuda.amp import autocast, GradScaler\n",
    "import torchvision.transforms as transforms\n",
    "from torchvision.datasets import ImageFolder\n",
    "from torch.utils.data import DataLoader,Subset\n",
    "from torch.utils.tensorboard import SummaryWriter\n",
    "import numpy as np\n",
    "import matplotlib.pyplot as plt\n",
    "from tqdm import tqdm\n",
    "\n",
    "import os\n",
    "import seaborn as sns\n",
    "from sklearn.metrics import confusion_matrix, classification_report"
   ]
  },
  {
   "cell_type": "markdown",
   "metadata": {},
   "source": [
    "Complete the `load_data()` function that loads the image using `ImageFolder()` with the specific `transforms.compose()` provided below.\n",
    "`load_data()` will return `DataLoader()` and print the information about the Dataset.\n",
    "This function must load only a pair of classes from the entire dataset.\n",
    "Please ensure that the final image is in grayscale and has a size of 28x28.\n",
    "\n",
    "`transforms.Compose()` :\n",
    "- `transforms.Resize(32)`\n",
    "- `transforms.ToTensor()`\n",
    "- `transforms.Pad()`\n",
    "- `transforms.RandomRotation(45),`\n",
    "- `transforms.CenterCrop(28)`\n",
    "\n",
    "Resource : [`transforms.Compose()`](https://pytorch.org/vision/main/generated/torchvision.transforms.Compose.html#compose), [`torchvision.transforms v1`](<https://pytorch.org/vision/stable/transforms.html#v1-api-reference:~:text=custom)%20tv_tensor%20type.-,V1%20API%20Reference,-Geometry>)"
   ]
  },
  {
   "cell_type": "code",
   "execution_count": null,
   "metadata": {},
   "outputs": [],
   "source": [
    "def load_data(path, class_names):\n",
    "    ### START CODE HERE ###\n",
    "    transform = transforms.Compose([\n",
    "        transforms.Resize(32),\n",
    "        transforms.Grayscale(num_output_channels=1),  # Convert to grayscale\n",
    "        transforms.ToTensor(),\n",
    "        transforms.Pad(padding=2, fill=0, padding_mode='constant'),\n",
    "        transforms.RandomRotation(45),\n",
    "        transforms.CenterCrop(28)\n",
    "    ])\n",
    "\n",
    "    # Load the full dataset (no separate Train/Test folders)\n",
    "    full_dataset = ImageFolder(path, transform=transform)\n",
    "    \n",
    "    # Filter for only the specified classes\n",
    "    if class_names is not None:\n",
    "        # Get indices for the specified classes\n",
    "        class_to_idx = full_dataset.class_to_idx\n",
    "        target_classes = [class_to_idx[class_name] for class_name in class_names]\n",
    "        \n",
    "        # Filter dataset for target classes and create binary mapping\n",
    "        filtered_data = []\n",
    "        for i, (image, label) in enumerate(full_dataset):\n",
    "            if label in target_classes:\n",
    "                # Map labels to binary: first class -> 0, second class -> 1\n",
    "                binary_label = target_classes.index(label)\n",
    "                filtered_data.append((image, binary_label))\n",
    "        \n",
    "        # Create custom dataset with binary labels\n",
    "        class BinaryDataset(torch.utils.data.Dataset):\n",
    "            def __init__(self, data):\n",
    "                self.data = data\n",
    "            \n",
    "            def __len__(self):\n",
    "                return len(self.data)\n",
    "            \n",
    "            def __getitem__(self, idx):\n",
    "                return self.data[idx]\n",
    "        \n",
    "        filtered_dataset = BinaryDataset(filtered_data)\n",
    "        \n",
    "        # Split into train and test (80/20 split)\n",
    "        dataset_size = len(filtered_dataset)\n",
    "        train_size = int(0.8 * dataset_size)\n",
    "        test_size = dataset_size - train_size\n",
    "        \n",
    "        # Create train/test split\n",
    "        torch.manual_seed(42)  # For reproducible splits\n",
    "        train_dataset, test_dataset = torch.utils.data.random_split(\n",
    "            filtered_dataset, [train_size, test_size]\n",
    "        )\n",
    "    else:\n",
    "        # Use all classes and split 80/20\n",
    "        dataset_size = len(full_dataset)\n",
    "        train_size = int(0.8 * dataset_size)\n",
    "        test_size = dataset_size - train_size\n",
    "        \n",
    "        torch.manual_seed(42)\n",
    "        train_dataset, test_dataset = torch.utils.data.random_split(\n",
    "            full_dataset, [train_size, test_size]\n",
    "        )\n",
    "    \n",
    "    # Print dataset information\n",
    "    print(\"📃Train Dataset:\")\n",
    "    if class_names is not None:\n",
    "        # Count binary labels in train set\n",
    "        train_labels = [train_dataset[i][1] for i in range(len(train_dataset))]\n",
    "        for i in range(2):\n",
    "            count = train_labels.count(i)\n",
    "            print(f\"\\tNumber of images in class {i}: {count}\")\n",
    "    print(f\"\\tNumber of training samples: {len(train_dataset)}\")\n",
    "    \n",
    "    print(\"\\n📃Test Dataset:\")\n",
    "    if class_names is not None:\n",
    "        # Count binary labels in test set\n",
    "        test_labels = [test_dataset[i][1] for i in range(len(test_dataset))]\n",
    "        for i in range(2):\n",
    "            count = test_labels.count(i)\n",
    "            print(f\"\\tNumber of images in class {i}: {count}\")\n",
    "    print(f\"\\tNumber of testing samples: {len(test_dataset)}\")\n",
    "    \n",
    "    # Create data loaders\n",
    "    train_loader = DataLoader(train_dataset, batch_size=32, shuffle=True, num_workers=0, pin_memory=True)\n",
    "    test_loader = DataLoader(test_dataset, batch_size=32, shuffle=False, num_workers=0, pin_memory=True)\n",
    "\n",
    "    ### END CODE HERE ###\n",
    "    \n",
    "    return train_loader, test_loader"
   ]
  },
  {
   "cell_type": "markdown",
   "metadata": {},
   "source": [
    "Use your `load_data()` function to load the dataset in the cell below. Then, display the image from the first batch.\n",
    "\n",
    "<details>\n",
    "<summary>\n",
    "<font size=\"3\" color=\"orange\">\n",
    "<b>Expected output</b>\n",
    "</font>\n",
    "</summary>\n",
    "\n",
    "- The output should resemble this, but not be identical\n",
    "\n",
    "```\n",
    "📃Train Dataset:\n",
    "\tNumber of images in class 0: 313\n",
    "\tNumber of images in class 1: 308\n",
    "\tNumber of training samples: 621\n",
    "\n",
    "📃Test Dataset:\n",
    "\tNumber of images in class 0: 75\n",
    "\tNumber of images in class 1: 81\n",
    "\tNumber of testing samples: 156\n",
    "```\n",
    "\n",
    "\n",
    "![image.png](https://github.com/Digital-Image-Processing-Laboratory/Image-Processing-Course-2025/blob/main/Lab4_NN-and-CNN/assets/03.png?raw=true)\n",
    "\n",
    "</details>"
   ]
  },
  {
   "cell_type": "code",
   "execution_count": 3,
   "metadata": {},
   "outputs": [
    {
     "name": "stdout",
     "output_type": "stream",
     "text": [
      "📃Train Dataset:\n",
      "\tNumber of images in class 0: 314\n",
      "\tNumber of images in class 1: 306\n",
      "\tNumber of training samples: 620\n",
      "\n",
      "📃Test Dataset:\n",
      "\tNumber of images in class 0: 74\n",
      "\tNumber of images in class 1: 82\n",
      "\tNumber of testing samples: 156\n"
     ]
    },
    {
     "name": "stderr",
     "output_type": "stream",
     "text": [
      "C:\\Users\\asus\\AppData\\Roaming\\Python\\Python313\\site-packages\\torch\\utils\\data\\dataloader.py:665: UserWarning: 'pin_memory' argument is set as true but no accelerator is found, then device pinned memory won't be used.\n",
      "  warnings.warn(warn_msg)\n"
     ]
    },
    {
     "data": {
      "image/png": "[encoded data removed]",
      "text/plain": [
       "<Figure size 800x800 with 16 Axes>"
      ]
     },
     "metadata": {},
     "output_type": "display_data"
    }
   ],
   "source": [
    "### START CODE HERE ###\n",
    "class_names = ['0', '9']  # Thai numbers 0 and 9\n",
    "train_loader, test_loader = load_data(\"thai-handwriting-number.appspot.com\", class_names)\n",
    "\n",
    "# Display images from first batch\n",
    "data_iter = iter(train_loader)\n",
    "images, labels = next(data_iter)\n",
    "\n",
    "rows = 4\n",
    "cols = 4\n",
    "\n",
    "fig, axes = plt.subplots(rows, cols, figsize=(cols*2, rows*2))\n",
    "axes = axes.ravel()\n",
    "\n",
    "# Use the correct class names for binary classification\n",
    "binary_class_names = ['0', '9']  # Corresponds to binary labels 0 and 1\n",
    "\n",
    "for i in range(rows*cols):\n",
    "    if i < len(images):\n",
    "        # Convert tensor to numpy and remove channel dimension\n",
    "        img = images[i].squeeze().numpy()\n",
    "        \n",
    "        axes[i].imshow(img, cmap='gray')\n",
    "        # Map binary label back to original class name\n",
    "        label_idx = labels[i].item()\n",
    "        class_name = binary_class_names[label_idx]\n",
    "        axes[i].set_title(f'Class: {class_name}', color='white', fontsize=12)\n",
    "        axes[i].axis('off')\n",
    "    else:\n",
    "        axes[i].axis('off')\n",
    "\n",
    "# Set black background\n",
    "fig.patch.set_facecolor('black')\n",
    "plt.tight_layout()\n",
    "plt.show()\n",
    "\n",
    "### END CODE HERE ###"
   ]
  },
  {
   "cell_type": "markdown",
   "metadata": {},
   "source": [
    "**Create Models**\n",
    "1. **NN (Neural Network)**:\n",
    "- **Input**: 28x28 grayscale images (1 channel)\n",
    "- **Architecture**: Single fully connected layer with sigmoid activation\n",
    "- **Output**: Single neuron output with sigmoid activation\n",
    "- **Description**: This is a simple feedforward neural network with a single fully connected layer. It takes input images, flattens them, passes through a fully connected layer, and applies sigmoid activation to produce the output.\n",
    "\n",
    "2. **MLP (Multi-Layer Perceptron)**:\n",
    "- **Input**: 28x28 grayscale images (1 channel)\n",
    "- **Architecture**: Two fully connected layers with sigmoid activations\n",
    "- **Output**: Single neuron output with sigmoid activation\n",
    "- **Description**: This is a multi-layer perceptron with two fully connected layers. After flattening the input images, it passes through the first fully connected layer with sigmoid activation, followed by the second fully connected layer with sigmoid activation, producing the output.\n",
    "\n",
    "3. **CNN (Convolutional Neural Network)**:\n",
    "- **Input**: 28x28 grayscale images (1 channel)\n",
    "- **Architecture**: Two convolutional layers with ReLU activations, followed by two fully connected layers with ReLU activations\n",
    "- **Output**: Single neuron output with sigmoid activation\n",
    "- **Description**: This is a convolutional neural network with two convolutional layers followed by two fully connected layers. It applies convolutional operations with ReLU activations, followed by flattening the output and passing through fully connected layers with ReLU activations. Finally, it produces a single neuron output with sigmoid activation.\n",
    "\n",
    "\n",
    "Every model should have a `get_features()` method that returns the result from all layers."
   ]
  },
  {
   "cell_type": "code",
   "execution_count": 4,
   "metadata": {},
   "outputs": [],
   "source": [
    "### START CODE HERE ###\n",
    "class NN(nn.Module):\n",
    "    def __init__(self):\n",
    "        super(NN, self).__init__()\n",
    "        # Single fully connected layer: 28*28 = 784 inputs to 1 output\n",
    "        self.fc1 = nn.Linear(28 * 28, 1)\n",
    "        \n",
    "    def get_features(self, x):\n",
    "        # Flatten the input\n",
    "        x = x.view(x.size(0), -1)  # Flatten to (batch_size, 784)\n",
    "        \n",
    "        # Get features from the single layer\n",
    "        fc1_out = self.fc1(x)\n",
    "        \n",
    "        return [fc1_out]  # Return as list for consistency\n",
    "    \n",
    "    def forward(self, x):\n",
    "        # Flatten the input\n",
    "        x = x.view(x.size(0), -1)  # Flatten to (batch_size, 784)\n",
    "        \n",
    "        # Pass through fully connected layer with sigmoid\n",
    "        x = torch.sigmoid(self.fc1(x))\n",
    "        \n",
    "        return x\n",
    "\n",
    "class MLP(nn.Module):\n",
    "    def __init__(self):\n",
    "        super(MLP, self).__init__()\n",
    "        # Two fully connected layers\n",
    "        self.fc1 = nn.Linear(28 * 28, 128)  # First hidden layer\n",
    "        self.fc2 = nn.Linear(128, 1)        # Output layer\n",
    "    \n",
    "    def get_features(self, x):\n",
    "        # Flatten the input\n",
    "        x = x.view(x.size(0), -1)  # Flatten to (batch_size, 784)\n",
    "        \n",
    "        # Get features from each layer\n",
    "        fc1_out = torch.sigmoid(self.fc1(x))\n",
    "        fc2_out = self.fc2(fc1_out)\n",
    "        \n",
    "        return [fc1_out, fc2_out]\n",
    "    \n",
    "    def forward(self, x):\n",
    "        # Flatten the input\n",
    "        x = x.view(x.size(0), -1)  # Flatten to (batch_size, 784)\n",
    "        \n",
    "        # Pass through first layer with sigmoid\n",
    "        x = torch.sigmoid(self.fc1(x))\n",
    "        \n",
    "        # Pass through second layer with sigmoid\n",
    "        x = torch.sigmoid(self.fc2(x))\n",
    "        \n",
    "        return x\n",
    "\n",
    "class CNN(nn.Module):\n",
    "    def __init__(self):\n",
    "        super(CNN, self).__init__()\n",
    "        # Two convolutional layers\n",
    "        self.conv1 = nn.Conv2d(1, 16, kernel_size=3, padding=1)  # 28x28 -> 28x28\n",
    "        self.conv2 = nn.Conv2d(16, 32, kernel_size=3, padding=1) # 28x28 -> 28x28\n",
    "        \n",
    "        # Max pooling\n",
    "        self.pool = nn.MaxPool2d(2, 2)  # 28x28 -> 14x14 -> 7x7\n",
    "        \n",
    "        # Two fully connected layers\n",
    "        self.fc1 = nn.Linear(32 * 7 * 7, 128)  # After pooling twice: 7x7\n",
    "        self.fc2 = nn.Linear(128, 1)\n",
    "    \n",
    "    def get_features(self, x):\n",
    "        # Convolutional layers\n",
    "        conv1_out = F.relu(self.conv1(x))\n",
    "        pool1_out = self.pool(conv1_out)\n",
    "        \n",
    "        conv2_out = F.relu(self.conv2(pool1_out))\n",
    "        pool2_out = self.pool(conv2_out)\n",
    "        \n",
    "        # Flatten for fully connected layers\n",
    "        flattened = pool2_out.view(pool2_out.size(0), -1)\n",
    "        \n",
    "        # Fully connected layers\n",
    "        fc1_out = F.relu(self.fc1(flattened))\n",
    "        fc2_out = self.fc2(fc1_out)\n",
    "        \n",
    "        return [conv1_out, conv2_out, fc1_out, fc2_out]\n",
    "    \n",
    "    def forward(self, x):\n",
    "        # Convolutional layers with ReLU and pooling\n",
    "        x = self.pool(F.relu(self.conv1(x)))\n",
    "        x = self.pool(F.relu(self.conv2(x)))\n",
    "        \n",
    "        # Flatten for fully connected layers\n",
    "        x = x.view(x.size(0), -1)\n",
    "        \n",
    "        # Fully connected layers\n",
    "        x = F.relu(self.fc1(x))\n",
    "        x = torch.sigmoid(self.fc2(x))  # Final sigmoid activation\n",
    "        \n",
    "        return x\n",
    "\n",
    "### END CODE HERE ###"
   ]
  },
  {
   "cell_type": "markdown",
   "metadata": {},
   "source": [
    "Complete the function below. This function will be used to display the feature map from the models at every epoch on TensorBoard.\n",
    "\n",
    "<details>\n",
    "<summary>\n",
    "<font size=\"3\" color=\"orange\">\n",
    "<b>Expected output that will be display on TensorBoard</b>\n",
    "</font>\n",
    "</summary>\n",
    "\n",
    "- The output should resemble this, but not be identical\n",
    "- `NN()`<br>\n",
    "![image.png](https://github.com/Digital-Image-Processing-Laboratory/Image-Processing-Course-2025/blob/main/Lab4_NN-and-CNN/assets/04.png?raw=true)\n",
    "- `MLP()`<br>\n",
    "![image-2.png](https://github.com/Digital-Image-Processing-Laboratory/Image-Processing-Course-2025/blob/main/Lab4_NN-and-CNN/assets/05.png?raw=true)\n",
    "- `CNN()`<br>\n",
    "![image-3.png](https://github.com/Digital-Image-Processing-Laboratory/Image-Processing-Course-2025/blob/main/Lab4_NN-and-CNN/assets/06.png?raw=true)\n",
    "</details>"
   ]
  },
  {
   "cell_type": "code",
   "execution_count": 5,
   "metadata": {},
   "outputs": [],
   "source": [
    "def show_featuremaps(feats):\n",
    "    ### START CODE HERE ###\n",
    "    if not feats:\n",
    "        return None\n",
    "    \n",
    "    num_layers = len(feats)\n",
    "    \n",
    "    # Create subplots based on number of layers\n",
    "    fig, axes = plt.subplots(1, num_layers, figsize=(4 * num_layers, 4))\n",
    "    \n",
    "    if num_layers == 1:\n",
    "        axes = [axes]  # Make it iterable for single layer\n",
    "    \n",
    "    for i, feat in enumerate(feats):\n",
    "        if len(feat.shape) == 4:  # Convolutional feature maps (batch, channels, height, width)\n",
    "            # Take first sample from batch and create grid of feature maps\n",
    "            feat_sample = feat[0].detach().cpu()  # Remove batch dimension\n",
    "            \n",
    "            # Create a grid of feature maps\n",
    "            channels = feat_sample.shape[0]\n",
    "            grid_size = int(np.ceil(np.sqrt(channels)))\n",
    "            \n",
    "            # Create subplot for this layer\n",
    "            for j in range(min(channels, 16)):  # Show max 16 feature maps\n",
    "                if j == 0:\n",
    "                    # Show the first feature map as main visualization\n",
    "                    im = axes[i].imshow(feat_sample[j], cmap='viridis')\n",
    "                    axes[i].set_title(f'Layer {i+1} - Conv Feature Map')\n",
    "                    axes[i].axis('off')\n",
    "                    fig.colorbar(im, ax=axes[i], shrink=0.8)\n",
    "                    break\n",
    "                    \n",
    "        elif len(feat.shape) == 2:  # Fully connected layer (batch, features)\n",
    "            # Visualize as 1D bar plot\n",
    "            feat_sample = feat[0].detach().cpu().numpy()  # First sample\n",
    "            \n",
    "            # For large feature vectors, show only first 50 values\n",
    "            if len(feat_sample) > 50:\n",
    "                feat_sample = feat_sample[:50]\n",
    "            \n",
    "            axes[i].bar(range(len(feat_sample)), feat_sample)\n",
    "            axes[i].set_title(f'Layer {i+1} - FC Features')\n",
    "            axes[i].set_xlabel('Neuron Index')\n",
    "            axes[i].set_ylabel('Activation Value')\n",
    "    \n",
    "    plt.tight_layout()\n",
    "    ### END CODE HERE ###\n",
    "    return fig"
   ]
  },
  {
   "cell_type": "markdown",
   "metadata": {},
   "source": [
    "TensorBoard 101\n",
    "\n",
    "Complete the `train()` function in the cell below. This function should evaluate the model at every epoch, log the training loss/accuracy, test loss/accuracy, and display the feature map from all layers of the model at every epoch on TensorBoard. Additionally, it should save the model at the last epoch.\n",
    "\n",
    "Resource : [PyTorch Training loop](<https://pytorch.org/tutorials/beginner/introyt/trainingyt.html#:~:text=%3D0.9)-,The%20Training%20Loop,-Below%2C%20we%20have>), [TensorBoard](https://pytorch.org/docs/stable/tensorboard.html)\n",
    "\n",
    "<details>\n",
    "<summary>\n",
    "<font size=\"3\" color=\"orange\">\n",
    "<b>Expected output that will be display on TensorBoard</b>\n",
    "</font>\n",
    "</summary>\n",
    "\n",
    "- The output should resemble this, but not be identical\n",
    "\n",
    "![image.png](https://github.com/Digital-Image-Processing-Laboratory/Image-Processing-Course-2025/blob/main/Lab4_NN-and-CNN/assets/07.png?raw=true)\n",
    "\n",
    "![image-2.png](https://github.com/Digital-Image-Processing-Laboratory/Image-Processing-Course-2025/blob/main/Lab4_NN-and-CNN/assets/08.png?raw=true)\n",
    "</details>"
   ]
  },
  {
   "cell_type": "code",
   "execution_count": 6,
   "metadata": {},
   "outputs": [],
   "source": [
    "def train(class_names, model, opt, loss_fn, train_loader, test_loader, epochs=10, writer=None, checkpoint_path=None, device='cpu'):\n",
    "    ### START CODE HERE ###\n",
    "    model.to(device)\n",
    "    \n",
    "    for epoch in range(epochs):\n",
    "        # Training phase\n",
    "        model.train()\n",
    "        train_loss = 0.0\n",
    "        train_correct = 0\n",
    "        train_total = 0\n",
    "        \n",
    "        with tqdm(train_loader, desc=f'Epoch {epoch+1}/{epochs} [Train]') as pbar:\n",
    "            for batch_idx, (data, target) in enumerate(pbar):\n",
    "                data, target = data.to(device), target.to(device).float()\n",
    "                \n",
    "                opt.zero_grad()\n",
    "                output = model(data).squeeze()\n",
    "                loss = loss_fn(output, target)\n",
    "                loss.backward()\n",
    "                opt.step()\n",
    "                \n",
    "                train_loss += loss.item()\n",
    "                \n",
    "                # Calculate accuracy for binary classification\n",
    "                predicted = (output > 0.5).float()\n",
    "                train_total += target.size(0)\n",
    "                train_correct += (predicted == target).sum().item()\n",
    "                \n",
    "                # Update progress bar\n",
    "                pbar.set_postfix({\n",
    "                    'Loss': f'{loss.item():.4f}',\n",
    "                    'Acc': f'{100.*train_correct/train_total:.2f}%'\n",
    "                })\n",
    "        \n",
    "        # Evaluation phase\n",
    "        model.eval()\n",
    "        test_loss = 0.0\n",
    "        test_correct = 0\n",
    "        test_total = 0\n",
    "        \n",
    "        with torch.no_grad():\n",
    "            for data, target in test_loader:\n",
    "                data, target = data.to(device), target.to(device).float()\n",
    "                output = model(data).squeeze()\n",
    "                \n",
    "                test_loss += loss_fn(output, target).item()\n",
    "                \n",
    "                predicted = (output > 0.5).float()\n",
    "                test_total += target.size(0)\n",
    "                test_correct += (predicted == target).sum().item()\n",
    "        \n",
    "        # Calculate average losses and accuracies\n",
    "        avg_train_loss = train_loss / len(train_loader)\n",
    "        avg_test_loss = test_loss / len(test_loader)\n",
    "        train_accuracy = 100. * train_correct / train_total\n",
    "        test_accuracy = 100. * test_correct / test_total\n",
    "        \n",
    "        # Log to TensorBoard\n",
    "        if writer:\n",
    "            writer.add_scalar('Loss/Train', avg_train_loss, epoch)\n",
    "            writer.add_scalar('Loss/Test', avg_test_loss, epoch)\n",
    "            writer.add_scalar('Accuracy/Train', train_accuracy, epoch)\n",
    "            writer.add_scalar('Accuracy/Test', test_accuracy, epoch)\n",
    "            \n",
    "            # Log feature maps\n",
    "            with torch.no_grad():\n",
    "                sample_data, _ = next(iter(test_loader))\n",
    "                sample_data = sample_data[:1].to(device)  # Take first sample\n",
    "                features = model.get_features(sample_data)\n",
    "                \n",
    "                # Create feature map visualization\n",
    "                fig = show_featuremaps(features)\n",
    "                if fig:\n",
    "                    writer.add_figure(f'FeatureMaps/Epoch_{epoch}', fig, epoch)\n",
    "                    plt.close(fig)\n",
    "        \n",
    "        print(f'Epoch {epoch+1}/{epochs}:')\n",
    "        print(f'  Train Loss: {avg_train_loss:.4f}, Train Acc: {train_accuracy:.2f}%')\n",
    "        print(f'  Test Loss: {avg_test_loss:.4f}, Test Acc: {test_accuracy:.2f}%')\n",
    "        print('-' * 50)\n",
    "    \n",
    "    # Save model at the last epoch\n",
    "    if checkpoint_path:\n",
    "        torch.save({\n",
    "            'epoch': epochs,\n",
    "            'model_state_dict': model.state_dict(),\n",
    "            'optimizer_state_dict': opt.state_dict(),\n",
    "            'train_accuracy': train_accuracy,\n",
    "            'test_accuracy': test_accuracy,\n",
    "        }, checkpoint_path)\n",
    "        print(f'Model saved to {checkpoint_path}')\n",
    "\n",
    "    ### END CODE HERE ###"
   ]
  },
  {
   "cell_type": "markdown",
   "metadata": {},
   "source": [
    "Use your `train()` function to train all types of models with all combinations of numbers that you've obtained."
   ]
  },
  {
   "cell_type": "code",
   "execution_count": 7,
   "metadata": {},
   "outputs": [
    {
     "name": "stdout",
     "output_type": "stream",
     "text": [
      "Using device: cpu\n",
      "\n",
      "============================================================\n",
      "Training on classes: ['0', '9']\n",
      "============================================================\n",
      "📃Train Dataset:\n",
      "\tNumber of images in class 0: 314\n",
      "\tNumber of images in class 1: 306\n",
      "\tNumber of training samples: 620\n",
      "\n",
      "📃Test Dataset:\n",
      "\tNumber of images in class 0: 74\n",
      "\tNumber of images in class 1: 82\n",
      "\tNumber of testing samples: 156\n",
      "\n",
      "Training NN model...\n"
     ]
    },
    {
     "name": "stderr",
     "output_type": "stream",
     "text": [
      "Epoch 1/10 [Train]: 100%|██████████| 20/20 [00:00<00:00, 294.86it/s, Loss=0.6948, Acc=50.32%]\n"
     ]
    },
    {
     "name": "stdout",
     "output_type": "stream",
     "text": [
      "Epoch 1/10:\n",
      "  Train Loss: 0.7094, Train Acc: 50.32%\n",
      "  Test Loss: 0.6676, Test Acc: 64.74%\n",
      "--------------------------------------------------\n"
     ]
    },
    {
     "name": "stderr",
     "output_type": "stream",
     "text": [
      "Epoch 2/10 [Train]: 100%|██████████| 20/20 [00:00<00:00, 171.98it/s, Loss=0.6217, Acc=57.90%]\n"
     ]
    },
    {
     "name": "stdout",
     "output_type": "stream",
     "text": [
      "Epoch 2/10:\n",
      "  Train Loss: 0.6708, Train Acc: 57.90%\n",
      "  Test Loss: 0.6471, Test Acc: 71.79%\n",
      "--------------------------------------------------\n"
     ]
    },
    {
     "name": "stderr",
     "output_type": "stream",
     "text": [
      "Epoch 3/10 [Train]: 100%|██████████| 20/20 [00:00<00:00, 173.64it/s, Loss=0.6142, Acc=66.77%]\n"
     ]
    },
    {
     "name": "stdout",
     "output_type": "stream",
     "text": [
      "Epoch 3/10:\n",
      "  Train Loss: 0.6364, Train Acc: 66.77%\n",
      "  Test Loss: 0.6222, Test Acc: 75.00%\n",
      "--------------------------------------------------\n"
     ]
    },
    {
     "name": "stderr",
     "output_type": "stream",
     "text": [
      "Epoch 4/10 [Train]: 100%|██████████| 20/20 [00:00<00:00, 132.34it/s, Loss=0.7024, Acc=71.94%]\n"
     ]
    },
    {
     "name": "stdout",
     "output_type": "stream",
     "text": [
      "Epoch 4/10:\n",
      "  Train Loss: 0.6200, Train Acc: 71.94%\n",
      "  Test Loss: 0.6224, Test Acc: 67.31%\n",
      "--------------------------------------------------\n"
     ]
    },
    {
     "name": "stderr",
     "output_type": "stream",
     "text": [
      "Epoch 5/10 [Train]: 100%|██████████| 20/20 [00:00<00:00, 194.77it/s, Loss=0.5485, Acc=76.61%]\n"
     ]
    },
    {
     "name": "stdout",
     "output_type": "stream",
     "text": [
      "Epoch 5/10:\n",
      "  Train Loss: 0.5880, Train Acc: 76.61%\n",
      "  Test Loss: 0.5923, Test Acc: 77.56%\n",
      "--------------------------------------------------\n"
     ]
    },
    {
     "name": "stderr",
     "output_type": "stream",
     "text": [
      "Epoch 6/10 [Train]: 100%|██████████| 20/20 [00:00<00:00, 99.95it/s, Loss=0.5411, Acc=78.87%]\n"
     ]
    },
    {
     "name": "stdout",
     "output_type": "stream",
     "text": [
      "Epoch 6/10:\n",
      "  Train Loss: 0.5754, Train Acc: 78.87%\n",
      "  Test Loss: 0.5698, Test Acc: 77.56%\n",
      "--------------------------------------------------\n"
     ]
    },
    {
     "name": "stderr",
     "output_type": "stream",
     "text": [
      "Epoch 7/10 [Train]: 100%|██████████| 20/20 [00:00<00:00, 92.27it/s, Loss=0.5450, Acc=79.35%]\n"
     ]
    },
    {
     "name": "stdout",
     "output_type": "stream",
     "text": [
      "Epoch 7/10:\n",
      "  Train Loss: 0.5557, Train Acc: 79.35%\n",
      "  Test Loss: 0.5747, Test Acc: 78.21%\n",
      "--------------------------------------------------\n"
     ]
    },
    {
     "name": "stderr",
     "output_type": "stream",
     "text": [
      "Epoch 8/10 [Train]: 100%|██████████| 20/20 [00:00<00:00, 58.49it/s, Loss=0.5826, Acc=77.90%]\n"
     ]
    },
    {
     "name": "stdout",
     "output_type": "stream",
     "text": [
      "Epoch 8/10:\n",
      "  Train Loss: 0.5411, Train Acc: 77.90%\n",
      "  Test Loss: 0.5477, Test Acc: 78.85%\n",
      "--------------------------------------------------\n"
     ]
    },
    {
     "name": "stderr",
     "output_type": "stream",
     "text": [
      "Epoch 9/10 [Train]: 100%|██████████| 20/20 [00:00<00:00, 59.52it/s, Loss=0.5304, Acc=80.32%]\n"
     ]
    },
    {
     "name": "stdout",
     "output_type": "stream",
     "text": [
      "Epoch 9/10:\n",
      "  Train Loss: 0.5323, Train Acc: 80.32%\n",
      "  Test Loss: 0.5662, Test Acc: 76.28%\n",
      "--------------------------------------------------\n"
     ]
    },
    {
     "name": "stderr",
     "output_type": "stream",
     "text": [
      "Epoch 10/10 [Train]: 100%|██████████| 20/20 [00:00<00:00, 48.27it/s, Loss=0.4895, Acc=78.87%]\n"
     ]
    },
    {
     "name": "stdout",
     "output_type": "stream",
     "text": [
      "Epoch 10/10:\n",
      "  Train Loss: 0.5196, Train Acc: 78.87%\n",
      "  Test Loss: 0.5939, Test Acc: 68.59%\n",
      "--------------------------------------------------\n",
      "Model saved to models/NN_classes_0_9.pth\n",
      "Completed training NN on classes ['0', '9']\n",
      "\n",
      "Training MLP model...\n"
     ]
    },
    {
     "name": "stderr",
     "output_type": "stream",
     "text": [
      "Epoch 1/10 [Train]: 100%|██████████| 20/20 [00:01<00:00, 11.69it/s, Loss=0.6579, Acc=52.74%]\n"
     ]
    },
    {
     "name": "stdout",
     "output_type": "stream",
     "text": [
      "Epoch 1/10:\n",
      "  Train Loss: 0.6888, Train Acc: 52.74%\n",
      "  Test Loss: 0.6668, Test Acc: 58.97%\n",
      "--------------------------------------------------\n"
     ]
    },
    {
     "name": "stderr",
     "output_type": "stream",
     "text": [
      "Epoch 2/10 [Train]: 100%|██████████| 20/20 [00:00<00:00, 41.26it/s, Loss=0.6866, Acc=70.97%]\n"
     ]
    },
    {
     "name": "stdout",
     "output_type": "stream",
     "text": [
      "Epoch 2/10:\n",
      "  Train Loss: 0.6507, Train Acc: 70.97%\n",
      "  Test Loss: 0.6298, Test Acc: 69.23%\n",
      "--------------------------------------------------\n"
     ]
    },
    {
     "name": "stderr",
     "output_type": "stream",
     "text": [
      "Epoch 3/10 [Train]: 100%|██████████| 20/20 [00:01<00:00, 15.53it/s, Loss=0.5385, Acc=73.39%]\n"
     ]
    },
    {
     "name": "stdout",
     "output_type": "stream",
     "text": [
      "Epoch 3/10:\n",
      "  Train Loss: 0.6126, Train Acc: 73.39%\n",
      "  Test Loss: 0.6225, Test Acc: 69.23%\n",
      "--------------------------------------------------\n"
     ]
    },
    {
     "name": "stderr",
     "output_type": "stream",
     "text": [
      "Epoch 4/10 [Train]: 100%|██████████| 20/20 [00:02<00:00,  8.14it/s, Loss=0.5399, Acc=73.39%]\n"
     ]
    },
    {
     "name": "stdout",
     "output_type": "stream",
     "text": [
      "Epoch 4/10:\n",
      "  Train Loss: 0.5831, Train Acc: 73.39%\n",
      "  Test Loss: 0.5695, Test Acc: 78.85%\n",
      "--------------------------------------------------\n"
     ]
    },
    {
     "name": "stderr",
     "output_type": "stream",
     "text": [
      "Epoch 5/10 [Train]: 100%|██████████| 20/20 [00:00<00:00, 83.06it/s, Loss=0.5446, Acc=76.94%]\n"
     ]
    },
    {
     "name": "stdout",
     "output_type": "stream",
     "text": [
      "Epoch 5/10:\n",
      "  Train Loss: 0.5469, Train Acc: 76.94%\n",
      "  Test Loss: 0.5423, Test Acc: 73.08%\n",
      "--------------------------------------------------\n"
     ]
    },
    {
     "name": "stderr",
     "output_type": "stream",
     "text": [
      "Epoch 6/10 [Train]: 100%|██████████| 20/20 [00:02<00:00,  8.17it/s, Loss=0.4960, Acc=75.16%]\n"
     ]
    },
    {
     "name": "stdout",
     "output_type": "stream",
     "text": [
      "Epoch 6/10:\n",
      "  Train Loss: 0.5370, Train Acc: 75.16%\n",
      "  Test Loss: 0.5251, Test Acc: 76.92%\n",
      "--------------------------------------------------\n"
     ]
    },
    {
     "name": "stderr",
     "output_type": "stream",
     "text": [
      "Epoch 7/10 [Train]: 100%|██████████| 20/20 [00:00<00:00, 41.17it/s, Loss=0.5945, Acc=82.10%]\n"
     ]
    },
    {
     "name": "stdout",
     "output_type": "stream",
     "text": [
      "Epoch 7/10:\n",
      "  Train Loss: 0.4922, Train Acc: 82.10%\n",
      "  Test Loss: 0.5137, Test Acc: 78.21%\n",
      "--------------------------------------------------\n"
     ]
    },
    {
     "name": "stderr",
     "output_type": "stream",
     "text": [
      "Epoch 8/10 [Train]: 100%|██████████| 20/20 [00:01<00:00, 14.48it/s, Loss=0.5826, Acc=81.61%]\n"
     ]
    },
    {
     "name": "stdout",
     "output_type": "stream",
     "text": [
      "Epoch 8/10:\n",
      "  Train Loss: 0.4740, Train Acc: 81.61%\n",
      "  Test Loss: 0.4922, Test Acc: 80.13%\n",
      "--------------------------------------------------\n"
     ]
    },
    {
     "name": "stderr",
     "output_type": "stream",
     "text": [
      "Epoch 9/10 [Train]: 100%|██████████| 20/20 [00:00<00:00, 64.41it/s, Loss=0.5452, Acc=73.87%]\n"
     ]
    },
    {
     "name": "stdout",
     "output_type": "stream",
     "text": [
      "Epoch 9/10:\n",
      "  Train Loss: 0.5138, Train Acc: 73.87%\n",
      "  Test Loss: 0.7864, Test Acc: 57.69%\n",
      "--------------------------------------------------\n"
     ]
    },
    {
     "name": "stderr",
     "output_type": "stream",
     "text": [
      "Epoch 10/10 [Train]: 100%|██████████| 20/20 [00:00<00:00, 46.07it/s, Loss=0.2885, Acc=79.03%]\n"
     ]
    },
    {
     "name": "stdout",
     "output_type": "stream",
     "text": [
      "Epoch 10/10:\n",
      "  Train Loss: 0.4543, Train Acc: 79.03%\n",
      "  Test Loss: 0.4832, Test Acc: 79.49%\n",
      "--------------------------------------------------\n",
      "Model saved to models/MLP_classes_0_9.pth\n",
      "Completed training MLP on classes ['0', '9']\n",
      "\n",
      "Training CNN model...\n"
     ]
    },
    {
     "name": "stderr",
     "output_type": "stream",
     "text": [
      "Epoch 1/10 [Train]: 100%|██████████| 20/20 [00:05<00:00,  3.63it/s, Loss=0.6616, Acc=62.42%]\n"
     ]
    },
    {
     "name": "stdout",
     "output_type": "stream",
     "text": [
      "Epoch 1/10:\n",
      "  Train Loss: 0.6942, Train Acc: 62.42%\n",
      "  Test Loss: 0.6630, Test Acc: 49.36%\n",
      "--------------------------------------------------\n"
     ]
    },
    {
     "name": "stderr",
     "output_type": "stream",
     "text": [
      "Epoch 2/10 [Train]: 100%|██████████| 20/20 [00:01<00:00, 11.85it/s, Loss=0.4552, Acc=70.00%]\n"
     ]
    },
    {
     "name": "stdout",
     "output_type": "stream",
     "text": [
      "Epoch 2/10:\n",
      "  Train Loss: 0.5935, Train Acc: 70.00%\n",
      "  Test Loss: 0.5209, Test Acc: 80.13%\n",
      "--------------------------------------------------\n"
     ]
    },
    {
     "name": "stderr",
     "output_type": "stream",
     "text": [
      "Epoch 3/10 [Train]: 100%|██████████| 20/20 [00:01<00:00, 13.34it/s, Loss=0.1518, Acc=84.52%]\n"
     ]
    },
    {
     "name": "stdout",
     "output_type": "stream",
     "text": [
      "Epoch 3/10:\n",
      "  Train Loss: 0.3925, Train Acc: 84.52%\n",
      "  Test Loss: 0.4232, Test Acc: 81.41%\n",
      "--------------------------------------------------\n"
     ]
    },
    {
     "name": "stderr",
     "output_type": "stream",
     "text": [
      "Epoch 4/10 [Train]: 100%|██████████| 20/20 [00:00<00:00, 83.15it/s, Loss=0.0944, Acc=88.23%]\n"
     ]
    },
    {
     "name": "stdout",
     "output_type": "stream",
     "text": [
      "Epoch 4/10:\n",
      "  Train Loss: 0.2985, Train Acc: 88.23%\n",
      "  Test Loss: 0.3814, Test Acc: 82.69%\n",
      "--------------------------------------------------\n"
     ]
    },
    {
     "name": "stderr",
     "output_type": "stream",
     "text": [
      "Epoch 5/10 [Train]: 100%|██████████| 20/20 [00:02<00:00,  8.92it/s, Loss=0.2464, Acc=89.35%]\n"
     ]
    },
    {
     "name": "stdout",
     "output_type": "stream",
     "text": [
      "Epoch 5/10:\n",
      "  Train Loss: 0.2692, Train Acc: 89.35%\n",
      "  Test Loss: 0.3509, Test Acc: 85.90%\n",
      "--------------------------------------------------\n"
     ]
    },
    {
     "name": "stderr",
     "output_type": "stream",
     "text": [
      "Epoch 6/10 [Train]: 100%|██████████| 20/20 [00:01<00:00, 12.17it/s, Loss=0.3795, Acc=90.81%]\n"
     ]
    },
    {
     "name": "stdout",
     "output_type": "stream",
     "text": [
      "Epoch 6/10:\n",
      "  Train Loss: 0.2439, Train Acc: 90.81%\n",
      "  Test Loss: 0.3412, Test Acc: 83.97%\n",
      "--------------------------------------------------\n"
     ]
    },
    {
     "name": "stderr",
     "output_type": "stream",
     "text": [
      "Epoch 7/10 [Train]: 100%|██████████| 20/20 [00:01<00:00, 15.97it/s, Loss=0.3286, Acc=91.94%]\n"
     ]
    },
    {
     "name": "stdout",
     "output_type": "stream",
     "text": [
      "Epoch 7/10:\n",
      "  Train Loss: 0.2166, Train Acc: 91.94%\n",
      "  Test Loss: 0.3764, Test Acc: 83.33%\n",
      "--------------------------------------------------\n"
     ]
    },
    {
     "name": "stderr",
     "output_type": "stream",
     "text": [
      "Epoch 8/10 [Train]: 100%|██████████| 20/20 [00:00<00:00, 69.23it/s, Loss=0.4632, Acc=90.16%]\n"
     ]
    },
    {
     "name": "stdout",
     "output_type": "stream",
     "text": [
      "Epoch 8/10:\n",
      "  Train Loss: 0.2416, Train Acc: 90.16%\n",
      "  Test Loss: 0.3524, Test Acc: 85.26%\n",
      "--------------------------------------------------\n"
     ]
    },
    {
     "name": "stderr",
     "output_type": "stream",
     "text": [
      "Epoch 9/10 [Train]: 100%|██████████| 20/20 [00:00<00:00, 80.33it/s, Loss=0.0650, Acc=91.13%]\n"
     ]
    },
    {
     "name": "stdout",
     "output_type": "stream",
     "text": [
      "Epoch 9/10:\n",
      "  Train Loss: 0.2044, Train Acc: 91.13%\n",
      "  Test Loss: 0.3131, Test Acc: 85.26%\n",
      "--------------------------------------------------\n"
     ]
    },
    {
     "name": "stderr",
     "output_type": "stream",
     "text": [
      "Epoch 10/10 [Train]: 100%|██████████| 20/20 [00:00<00:00, 32.59it/s, Loss=0.0900, Acc=93.55%]\n"
     ]
    },
    {
     "name": "stdout",
     "output_type": "stream",
     "text": [
      "Epoch 10/10:\n",
      "  Train Loss: 0.1665, Train Acc: 93.55%\n",
      "  Test Loss: 0.3145, Test Acc: 85.90%\n",
      "--------------------------------------------------\n",
      "Model saved to models/CNN_classes_0_9.pth\n",
      "Completed training CNN on classes ['0', '9']\n",
      "\n",
      "============================================================\n",
      "Training on classes: ['1', '8']\n",
      "============================================================\n",
      "📃Train Dataset:\n",
      "\tNumber of images in class 0: 309\n",
      "\tNumber of images in class 1: 312\n",
      "\tNumber of training samples: 621\n",
      "\n",
      "📃Test Dataset:\n",
      "\tNumber of images in class 0: 80\n",
      "\tNumber of images in class 1: 76\n",
      "\tNumber of testing samples: 156\n",
      "\n",
      "Training NN model...\n"
     ]
    },
    {
     "name": "stderr",
     "output_type": "stream",
     "text": [
      "Epoch 1/10 [Train]: 100%|██████████| 20/20 [00:00<00:00, 419.78it/s, Loss=0.7044, Acc=53.62%]\n"
     ]
    },
    {
     "name": "stdout",
     "output_type": "stream",
     "text": [
      "Epoch 1/10:\n",
      "  Train Loss: 0.6982, Train Acc: 53.62%\n",
      "  Test Loss: 0.6526, Test Acc: 64.74%\n",
      "--------------------------------------------------\n"
     ]
    },
    {
     "name": "stderr",
     "output_type": "stream",
     "text": [
      "Epoch 2/10 [Train]: 100%|██████████| 20/20 [00:00<00:00, 171.98it/s, Loss=0.6587, Acc=63.12%]\n"
     ]
    },
    {
     "name": "stdout",
     "output_type": "stream",
     "text": [
      "Epoch 2/10:\n",
      "  Train Loss: 0.6567, Train Acc: 63.12%\n",
      "  Test Loss: 0.6223, Test Acc: 71.15%\n",
      "--------------------------------------------------\n"
     ]
    },
    {
     "name": "stderr",
     "output_type": "stream",
     "text": [
      "Epoch 3/10 [Train]: 100%|██████████| 20/20 [00:00<00:00, 145.28it/s, Loss=0.6692, Acc=65.86%]\n"
     ]
    },
    {
     "name": "stdout",
     "output_type": "stream",
     "text": [
      "Epoch 3/10:\n",
      "  Train Loss: 0.6295, Train Acc: 65.86%\n",
      "  Test Loss: 0.5919, Test Acc: 73.08%\n",
      "--------------------------------------------------\n"
     ]
    },
    {
     "name": "stderr",
     "output_type": "stream",
     "text": [
      "Epoch 4/10 [Train]: 100%|██████████| 20/20 [00:00<00:00, 74.89it/s, Loss=0.5441, Acc=68.60%]\n"
     ]
    },
    {
     "name": "stdout",
     "output_type": "stream",
     "text": [
      "Epoch 4/10:\n",
      "  Train Loss: 0.6149, Train Acc: 68.60%\n",
      "  Test Loss: 0.5693, Test Acc: 78.85%\n",
      "--------------------------------------------------\n"
     ]
    },
    {
     "name": "stderr",
     "output_type": "stream",
     "text": [
      "Epoch 5/10 [Train]: 100%|██████████| 20/20 [00:00<00:00, 63.58it/s, Loss=0.6139, Acc=79.23%]\n"
     ]
    },
    {
     "name": "stdout",
     "output_type": "stream",
     "text": [
      "Epoch 5/10:\n",
      "  Train Loss: 0.5715, Train Acc: 79.23%\n",
      "  Test Loss: 0.5513, Test Acc: 77.56%\n",
      "--------------------------------------------------\n"
     ]
    },
    {
     "name": "stderr",
     "output_type": "stream",
     "text": [
      "Epoch 6/10 [Train]: 100%|██████████| 20/20 [00:00<00:00, 33.24it/s, Loss=0.4576, Acc=76.49%]\n"
     ]
    },
    {
     "name": "stdout",
     "output_type": "stream",
     "text": [
      "Epoch 6/10:\n",
      "  Train Loss: 0.5580, Train Acc: 76.49%\n",
      "  Test Loss: 0.5382, Test Acc: 79.49%\n",
      "--------------------------------------------------\n"
     ]
    },
    {
     "name": "stderr",
     "output_type": "stream",
     "text": [
      "Epoch 7/10 [Train]: 100%|██████████| 20/20 [00:00<00:00, 72.01it/s, Loss=0.5692, Acc=76.49%]\n"
     ]
    },
    {
     "name": "stdout",
     "output_type": "stream",
     "text": [
      "Epoch 7/10:\n",
      "  Train Loss: 0.5526, Train Acc: 76.49%\n",
      "  Test Loss: 0.5247, Test Acc: 80.13%\n",
      "--------------------------------------------------\n"
     ]
    },
    {
     "name": "stderr",
     "output_type": "stream",
     "text": [
      "Epoch 8/10 [Train]: 100%|██████████| 20/20 [00:00<00:00, 39.58it/s, Loss=0.4960, Acc=81.16%]\n"
     ]
    },
    {
     "name": "stdout",
     "output_type": "stream",
     "text": [
      "Epoch 8/10:\n",
      "  Train Loss: 0.5241, Train Acc: 81.16%\n",
      "  Test Loss: 0.5140, Test Acc: 80.13%\n",
      "--------------------------------------------------\n"
     ]
    },
    {
     "name": "stderr",
     "output_type": "stream",
     "text": [
      "Epoch 9/10 [Train]: 100%|██████████| 20/20 [00:00<00:00, 60.17it/s, Loss=0.4940, Acc=79.55%]\n"
     ]
    },
    {
     "name": "stdout",
     "output_type": "stream",
     "text": [
      "Epoch 9/10:\n",
      "  Train Loss: 0.5171, Train Acc: 79.55%\n",
      "  Test Loss: 0.5248, Test Acc: 76.28%\n",
      "--------------------------------------------------\n"
     ]
    },
    {
     "name": "stderr",
     "output_type": "stream",
     "text": [
      "Epoch 10/10 [Train]: 100%|██████████| 20/20 [00:00<00:00, 36.34it/s, Loss=0.5431, Acc=77.78%]\n"
     ]
    },
    {
     "name": "stdout",
     "output_type": "stream",
     "text": [
      "Epoch 10/10:\n",
      "  Train Loss: 0.5210, Train Acc: 77.78%\n",
      "  Test Loss: 0.4985, Test Acc: 80.77%\n",
      "--------------------------------------------------\n",
      "Model saved to models/NN_classes_1_8.pth\n",
      "Completed training NN on classes ['1', '8']\n",
      "\n",
      "Training MLP model...\n"
     ]
    },
    {
     "name": "stderr",
     "output_type": "stream",
     "text": [
      "Epoch 1/10 [Train]: 100%|██████████| 20/20 [00:00<00:00, 28.20it/s, Loss=0.6655, Acc=59.10%]\n"
     ]
    },
    {
     "name": "stdout",
     "output_type": "stream",
     "text": [
      "Epoch 1/10:\n",
      "  Train Loss: 0.6865, Train Acc: 59.10%\n",
      "  Test Loss: 0.6500, Test Acc: 73.72%\n",
      "--------------------------------------------------\n"
     ]
    },
    {
     "name": "stderr",
     "output_type": "stream",
     "text": [
      "Epoch 2/10 [Train]: 100%|██████████| 20/20 [00:01<00:00, 19.09it/s, Loss=0.5942, Acc=64.57%]\n"
     ]
    },
    {
     "name": "stdout",
     "output_type": "stream",
     "text": [
      "Epoch 2/10:\n",
      "  Train Loss: 0.6393, Train Acc: 64.57%\n",
      "  Test Loss: 0.6159, Test Acc: 64.10%\n",
      "--------------------------------------------------\n"
     ]
    },
    {
     "name": "stderr",
     "output_type": "stream",
     "text": [
      "Epoch 3/10 [Train]: 100%|██████████| 20/20 [00:00<00:00, 39.50it/s, Loss=0.4659, Acc=65.06%]\n"
     ]
    },
    {
     "name": "stdout",
     "output_type": "stream",
     "text": [
      "Epoch 3/10:\n",
      "  Train Loss: 0.6046, Train Acc: 65.06%\n",
      "  Test Loss: 0.6769, Test Acc: 51.28%\n",
      "--------------------------------------------------\n"
     ]
    },
    {
     "name": "stderr",
     "output_type": "stream",
     "text": [
      "Epoch 4/10 [Train]: 100%|██████████| 20/20 [00:00<00:00, 24.64it/s, Loss=0.6863, Acc=58.29%]\n"
     ]
    },
    {
     "name": "stdout",
     "output_type": "stream",
     "text": [
      "Epoch 4/10:\n",
      "  Train Loss: 0.6430, Train Acc: 58.29%\n",
      "  Test Loss: 0.5840, Test Acc: 67.95%\n",
      "--------------------------------------------------\n"
     ]
    },
    {
     "name": "stderr",
     "output_type": "stream",
     "text": [
      "Epoch 5/10 [Train]: 100%|██████████| 20/20 [00:00<00:00, 51.91it/s, Loss=0.4667, Acc=77.13%]\n"
     ]
    },
    {
     "name": "stdout",
     "output_type": "stream",
     "text": [
      "Epoch 5/10:\n",
      "  Train Loss: 0.5485, Train Acc: 77.13%\n",
      "  Test Loss: 0.5303, Test Acc: 79.49%\n",
      "--------------------------------------------------\n"
     ]
    },
    {
     "name": "stderr",
     "output_type": "stream",
     "text": [
      "Epoch 6/10 [Train]: 100%|██████████| 20/20 [00:00<00:00, 78.74it/s, Loss=0.4293, Acc=78.74%]\n"
     ]
    },
    {
     "name": "stdout",
     "output_type": "stream",
     "text": [
      "Epoch 6/10:\n",
      "  Train Loss: 0.5184, Train Acc: 78.74%\n",
      "  Test Loss: 0.5124, Test Acc: 76.28%\n",
      "--------------------------------------------------\n"
     ]
    },
    {
     "name": "stderr",
     "output_type": "stream",
     "text": [
      "Epoch 7/10 [Train]: 100%|██████████| 20/20 [00:00<00:00, 31.14it/s, Loss=0.4978, Acc=80.03%]\n"
     ]
    },
    {
     "name": "stdout",
     "output_type": "stream",
     "text": [
      "Epoch 7/10:\n",
      "  Train Loss: 0.4961, Train Acc: 80.03%\n",
      "  Test Loss: 0.4848, Test Acc: 78.21%\n",
      "--------------------------------------------------\n"
     ]
    },
    {
     "name": "stderr",
     "output_type": "stream",
     "text": [
      "Epoch 8/10 [Train]: 100%|██████████| 20/20 [00:00<00:00, 40.41it/s, Loss=0.6246, Acc=81.00%]\n"
     ]
    },
    {
     "name": "stdout",
     "output_type": "stream",
     "text": [
      "Epoch 8/10:\n",
      "  Train Loss: 0.4769, Train Acc: 81.00%\n",
      "  Test Loss: 0.4696, Test Acc: 77.56%\n",
      "--------------------------------------------------\n"
     ]
    },
    {
     "name": "stderr",
     "output_type": "stream",
     "text": [
      "Epoch 9/10 [Train]: 100%|██████████| 20/20 [00:01<00:00, 17.81it/s, Loss=0.4480, Acc=82.45%]\n"
     ]
    },
    {
     "name": "stdout",
     "output_type": "stream",
     "text": [
      "Epoch 9/10:\n",
      "  Train Loss: 0.4547, Train Acc: 82.45%\n",
      "  Test Loss: 0.4591, Test Acc: 78.85%\n",
      "--------------------------------------------------\n"
     ]
    },
    {
     "name": "stderr",
     "output_type": "stream",
     "text": [
      "Epoch 10/10 [Train]: 100%|██████████| 20/20 [00:00<00:00, 32.08it/s, Loss=0.3946, Acc=81.32%]\n"
     ]
    },
    {
     "name": "stdout",
     "output_type": "stream",
     "text": [
      "Epoch 10/10:\n",
      "  Train Loss: 0.4461, Train Acc: 81.32%\n",
      "  Test Loss: 0.4874, Test Acc: 80.77%\n",
      "--------------------------------------------------\n",
      "Model saved to models/MLP_classes_1_8.pth\n",
      "Completed training MLP on classes ['1', '8']\n",
      "\n",
      "Training CNN model...\n"
     ]
    },
    {
     "name": "stderr",
     "output_type": "stream",
     "text": [
      "Epoch 1/10 [Train]: 100%|██████████| 20/20 [00:07<00:00,  2.79it/s, Loss=0.6811, Acc=59.26%]\n"
     ]
    },
    {
     "name": "stdout",
     "output_type": "stream",
     "text": [
      "Epoch 1/10:\n",
      "  Train Loss: 0.6905, Train Acc: 59.26%\n",
      "  Test Loss: 0.6652, Test Acc: 79.49%\n",
      "--------------------------------------------------\n"
     ]
    },
    {
     "name": "stderr",
     "output_type": "stream",
     "text": [
      "Epoch 2/10 [Train]: 100%|██████████| 20/20 [00:00<00:00, 32.63it/s, Loss=0.4592, Acc=74.88%]\n"
     ]
    },
    {
     "name": "stdout",
     "output_type": "stream",
     "text": [
      "Epoch 2/10:\n",
      "  Train Loss: 0.6117, Train Acc: 74.88%\n",
      "  Test Loss: 0.5201, Test Acc: 73.72%\n",
      "--------------------------------------------------\n"
     ]
    },
    {
     "name": "stderr",
     "output_type": "stream",
     "text": [
      "Epoch 3/10 [Train]: 100%|██████████| 20/20 [00:00<00:00, 20.62it/s, Loss=0.3560, Acc=78.58%]\n"
     ]
    },
    {
     "name": "stdout",
     "output_type": "stream",
     "text": [
      "Epoch 3/10:\n",
      "  Train Loss: 0.4886, Train Acc: 78.58%\n",
      "  Test Loss: 0.4233, Test Acc: 82.69%\n",
      "--------------------------------------------------\n"
     ]
    },
    {
     "name": "stderr",
     "output_type": "stream",
     "text": [
      "Epoch 4/10 [Train]: 100%|██████████| 20/20 [00:01<00:00, 19.30it/s, Loss=0.5132, Acc=81.96%]\n"
     ]
    },
    {
     "name": "stdout",
     "output_type": "stream",
     "text": [
      "Epoch 4/10:\n",
      "  Train Loss: 0.4147, Train Acc: 81.96%\n",
      "  Test Loss: 0.3768, Test Acc: 82.69%\n",
      "--------------------------------------------------\n"
     ]
    },
    {
     "name": "stderr",
     "output_type": "stream",
     "text": [
      "Epoch 5/10 [Train]: 100%|██████████| 20/20 [00:00<00:00, 37.31it/s, Loss=0.2149, Acc=86.80%]\n"
     ]
    },
    {
     "name": "stdout",
     "output_type": "stream",
     "text": [
      "Epoch 5/10:\n",
      "  Train Loss: 0.3429, Train Acc: 86.80%\n",
      "  Test Loss: 0.3226, Test Acc: 85.90%\n",
      "--------------------------------------------------\n"
     ]
    },
    {
     "name": "stderr",
     "output_type": "stream",
     "text": [
      "Epoch 6/10 [Train]: 100%|██████████| 20/20 [00:00<00:00, 22.48it/s, Loss=0.3701, Acc=87.92%]\n"
     ]
    },
    {
     "name": "stdout",
     "output_type": "stream",
     "text": [
      "Epoch 6/10:\n",
      "  Train Loss: 0.3162, Train Acc: 87.92%\n",
      "  Test Loss: 0.2832, Test Acc: 87.82%\n",
      "--------------------------------------------------\n"
     ]
    },
    {
     "name": "stderr",
     "output_type": "stream",
     "text": [
      "Epoch 7/10 [Train]: 100%|██████████| 20/20 [00:02<00:00,  9.69it/s, Loss=0.2481, Acc=88.41%]\n"
     ]
    },
    {
     "name": "stdout",
     "output_type": "stream",
     "text": [
      "Epoch 7/10:\n",
      "  Train Loss: 0.2744, Train Acc: 88.41%\n",
      "  Test Loss: 0.2530, Test Acc: 89.10%\n",
      "--------------------------------------------------\n"
     ]
    },
    {
     "name": "stderr",
     "output_type": "stream",
     "text": [
      "Epoch 8/10 [Train]: 100%|██████████| 20/20 [00:00<00:00, 22.48it/s, Loss=0.1421, Acc=88.89%]\n"
     ]
    },
    {
     "name": "stdout",
     "output_type": "stream",
     "text": [
      "Epoch 8/10:\n",
      "  Train Loss: 0.2322, Train Acc: 88.89%\n",
      "  Test Loss: 0.2257, Test Acc: 89.10%\n",
      "--------------------------------------------------\n"
     ]
    },
    {
     "name": "stderr",
     "output_type": "stream",
     "text": [
      "Epoch 9/10 [Train]: 100%|██████████| 20/20 [00:01<00:00, 10.41it/s, Loss=0.2971, Acc=90.34%]\n"
     ]
    },
    {
     "name": "stdout",
     "output_type": "stream",
     "text": [
      "Epoch 9/10:\n",
      "  Train Loss: 0.2184, Train Acc: 90.34%\n",
      "  Test Loss: 0.2129, Test Acc: 88.46%\n",
      "--------------------------------------------------\n"
     ]
    },
    {
     "name": "stderr",
     "output_type": "stream",
     "text": [
      "Epoch 10/10 [Train]: 100%|██████████| 20/20 [00:00<00:00, 37.92it/s, Loss=0.2605, Acc=91.47%]\n"
     ]
    },
    {
     "name": "stdout",
     "output_type": "stream",
     "text": [
      "Epoch 10/10:\n",
      "  Train Loss: 0.1966, Train Acc: 91.47%\n",
      "  Test Loss: 0.2145, Test Acc: 90.38%\n",
      "--------------------------------------------------\n",
      "Model saved to models/CNN_classes_1_8.pth\n",
      "Completed training CNN on classes ['1', '8']\n",
      "\n",
      "============================================================\n",
      "Training on classes: ['2', '7']\n",
      "============================================================\n",
      "📃Train Dataset:\n",
      "\tNumber of images in class 0: 309\n",
      "\tNumber of images in class 1: 312\n",
      "\tNumber of training samples: 621\n",
      "\n",
      "📃Test Dataset:\n",
      "\tNumber of images in class 0: 80\n",
      "\tNumber of images in class 1: 76\n",
      "\tNumber of testing samples: 156\n",
      "\n",
      "Training NN model...\n"
     ]
    },
    {
     "name": "stderr",
     "output_type": "stream",
     "text": [
      "Epoch 1/10 [Train]: 100%|██████████| 20/20 [00:00<00:00, 423.98it/s, Loss=0.6822, Acc=52.33%]\n"
     ]
    },
    {
     "name": "stdout",
     "output_type": "stream",
     "text": [
      "Epoch 1/10:\n",
      "  Train Loss: 0.7007, Train Acc: 52.33%\n",
      "  Test Loss: 0.6636, Test Acc: 57.69%\n",
      "--------------------------------------------------\n"
     ]
    },
    {
     "name": "stderr",
     "output_type": "stream",
     "text": [
      "Epoch 2/10 [Train]: 100%|██████████| 20/20 [00:00<00:00, 180.68it/s, Loss=0.6231, Acc=60.55%]\n"
     ]
    },
    {
     "name": "stdout",
     "output_type": "stream",
     "text": [
      "Epoch 2/10:\n",
      "  Train Loss: 0.6544, Train Acc: 60.55%\n",
      "  Test Loss: 0.6233, Test Acc: 70.51%\n",
      "--------------------------------------------------\n"
     ]
    },
    {
     "name": "stderr",
     "output_type": "stream",
     "text": [
      "Epoch 3/10 [Train]: 100%|██████████| 20/20 [00:00<00:00, 97.84it/s, Loss=0.5914, Acc=71.01%]\n"
     ]
    },
    {
     "name": "stdout",
     "output_type": "stream",
     "text": [
      "Epoch 3/10:\n",
      "  Train Loss: 0.6205, Train Acc: 71.01%\n",
      "  Test Loss: 0.5837, Test Acc: 74.36%\n",
      "--------------------------------------------------\n"
     ]
    },
    {
     "name": "stderr",
     "output_type": "stream",
     "text": [
      "Epoch 4/10 [Train]: 100%|██████████| 20/20 [00:00<00:00, 121.54it/s, Loss=0.5840, Acc=70.85%]\n"
     ]
    },
    {
     "name": "stdout",
     "output_type": "stream",
     "text": [
      "Epoch 4/10:\n",
      "  Train Loss: 0.5983, Train Acc: 70.85%\n",
      "  Test Loss: 0.5555, Test Acc: 79.49%\n",
      "--------------------------------------------------\n"
     ]
    },
    {
     "name": "stderr",
     "output_type": "stream",
     "text": [
      "Epoch 5/10 [Train]: 100%|██████████| 20/20 [00:00<00:00, 32.69it/s, Loss=0.5802, Acc=77.94%]\n"
     ]
    },
    {
     "name": "stdout",
     "output_type": "stream",
     "text": [
      "Epoch 5/10:\n",
      "  Train Loss: 0.5581, Train Acc: 77.94%\n",
      "  Test Loss: 0.5348, Test Acc: 81.41%\n",
      "--------------------------------------------------\n"
     ]
    },
    {
     "name": "stderr",
     "output_type": "stream",
     "text": [
      "Epoch 6/10 [Train]: 100%|██████████| 20/20 [00:00<00:00, 48.20it/s, Loss=0.5337, Acc=77.62%]\n"
     ]
    },
    {
     "name": "stdout",
     "output_type": "stream",
     "text": [
      "Epoch 6/10:\n",
      "  Train Loss: 0.5457, Train Acc: 77.62%\n",
      "  Test Loss: 0.5220, Test Acc: 81.41%\n",
      "--------------------------------------------------\n"
     ]
    },
    {
     "name": "stderr",
     "output_type": "stream",
     "text": [
      "Epoch 7/10 [Train]: 100%|██████████| 20/20 [00:00<00:00, 64.93it/s, Loss=0.4054, Acc=75.85%]\n"
     ]
    },
    {
     "name": "stdout",
     "output_type": "stream",
     "text": [
      "Epoch 7/10:\n",
      "  Train Loss: 0.5321, Train Acc: 75.85%\n",
      "  Test Loss: 0.5063, Test Acc: 81.41%\n",
      "--------------------------------------------------\n"
     ]
    },
    {
     "name": "stderr",
     "output_type": "stream",
     "text": [
      "Epoch 8/10 [Train]: 100%|██████████| 20/20 [00:00<00:00, 44.51it/s, Loss=0.4233, Acc=79.07%]\n"
     ]
    },
    {
     "name": "stdout",
     "output_type": "stream",
     "text": [
      "Epoch 8/10:\n",
      "  Train Loss: 0.5072, Train Acc: 79.07%\n",
      "  Test Loss: 0.4924, Test Acc: 80.77%\n",
      "--------------------------------------------------\n"
     ]
    },
    {
     "name": "stderr",
     "output_type": "stream",
     "text": [
      "Epoch 9/10 [Train]: 100%|██████████| 20/20 [00:00<00:00, 33.18it/s, Loss=0.5353, Acc=78.26%]\n"
     ]
    },
    {
     "name": "stdout",
     "output_type": "stream",
     "text": [
      "Epoch 9/10:\n",
      "  Train Loss: 0.5086, Train Acc: 78.26%\n",
      "  Test Loss: 0.4921, Test Acc: 75.64%\n",
      "--------------------------------------------------\n"
     ]
    },
    {
     "name": "stderr",
     "output_type": "stream",
     "text": [
      "Epoch 10/10 [Train]: 100%|██████████| 20/20 [00:00<00:00, 50.14it/s, Loss=0.4901, Acc=75.85%]\n"
     ]
    },
    {
     "name": "stdout",
     "output_type": "stream",
     "text": [
      "Epoch 10/10:\n",
      "  Train Loss: 0.5159, Train Acc: 75.85%\n",
      "  Test Loss: 0.4805, Test Acc: 81.41%\n",
      "--------------------------------------------------\n",
      "Model saved to models/NN_classes_2_7.pth\n",
      "Completed training NN on classes ['2', '7']\n",
      "\n",
      "Training MLP model...\n"
     ]
    },
    {
     "name": "stderr",
     "output_type": "stream",
     "text": [
      "Epoch 1/10 [Train]: 100%|██████████| 20/20 [00:01<00:00, 14.63it/s, Loss=0.6552, Acc=60.71%]\n"
     ]
    },
    {
     "name": "stdout",
     "output_type": "stream",
     "text": [
      "Epoch 1/10:\n",
      "  Train Loss: 0.6826, Train Acc: 60.71%\n",
      "  Test Loss: 0.6373, Test Acc: 80.13%\n",
      "--------------------------------------------------\n"
     ]
    },
    {
     "name": "stderr",
     "output_type": "stream",
     "text": [
      "Epoch 2/10 [Train]: 100%|██████████| 20/20 [00:00<00:00, 29.11it/s, Loss=0.6236, Acc=66.83%]\n"
     ]
    },
    {
     "name": "stdout",
     "output_type": "stream",
     "text": [
      "Epoch 2/10:\n",
      "  Train Loss: 0.6313, Train Acc: 66.83%\n",
      "  Test Loss: 0.5845, Test Acc: 77.56%\n",
      "--------------------------------------------------\n"
     ]
    },
    {
     "name": "stderr",
     "output_type": "stream",
     "text": [
      "Epoch 3/10 [Train]: 100%|██████████| 20/20 [00:00<00:00, 75.35it/s, Loss=0.6452, Acc=71.50%] \n"
     ]
    },
    {
     "name": "stdout",
     "output_type": "stream",
     "text": [
      "Epoch 3/10:\n",
      "  Train Loss: 0.5891, Train Acc: 71.50%\n",
      "  Test Loss: 0.6708, Test Acc: 51.92%\n",
      "--------------------------------------------------\n"
     ]
    },
    {
     "name": "stderr",
     "output_type": "stream",
     "text": [
      "Epoch 4/10 [Train]: 100%|██████████| 20/20 [00:00<00:00, 34.61it/s, Loss=0.5774, Acc=62.96%]\n"
     ]
    },
    {
     "name": "stdout",
     "output_type": "stream",
     "text": [
      "Epoch 4/10:\n",
      "  Train Loss: 0.6088, Train Acc: 62.96%\n",
      "  Test Loss: 0.5211, Test Acc: 80.13%\n",
      "--------------------------------------------------\n"
     ]
    },
    {
     "name": "stderr",
     "output_type": "stream",
     "text": [
      "Epoch 5/10 [Train]: 100%|██████████| 20/20 [00:00<00:00, 49.70it/s, Loss=0.4354, Acc=75.85%] \n"
     ]
    },
    {
     "name": "stdout",
     "output_type": "stream",
     "text": [
      "Epoch 5/10:\n",
      "  Train Loss: 0.5356, Train Acc: 75.85%\n",
      "  Test Loss: 0.4893, Test Acc: 78.85%\n",
      "--------------------------------------------------\n"
     ]
    },
    {
     "name": "stderr",
     "output_type": "stream",
     "text": [
      "Epoch 6/10 [Train]: 100%|██████████| 20/20 [00:00<00:00, 197.72it/s, Loss=0.4761, Acc=79.39%]\n"
     ]
    },
    {
     "name": "stdout",
     "output_type": "stream",
     "text": [
      "Epoch 6/10:\n",
      "  Train Loss: 0.5009, Train Acc: 79.39%\n",
      "  Test Loss: 0.4984, Test Acc: 81.41%\n",
      "--------------------------------------------------\n"
     ]
    },
    {
     "name": "stderr",
     "output_type": "stream",
     "text": [
      "Epoch 7/10 [Train]: 100%|██████████| 20/20 [00:00<00:00, 31.22it/s, Loss=0.4506, Acc=78.42%]\n"
     ]
    },
    {
     "name": "stdout",
     "output_type": "stream",
     "text": [
      "Epoch 7/10:\n",
      "  Train Loss: 0.4805, Train Acc: 78.42%\n",
      "  Test Loss: 0.4493, Test Acc: 81.41%\n",
      "--------------------------------------------------\n"
     ]
    },
    {
     "name": "stderr",
     "output_type": "stream",
     "text": [
      "Epoch 8/10 [Train]: 100%|██████████| 20/20 [00:00<00:00, 55.10it/s, Loss=0.3721, Acc=79.87%]\n"
     ]
    },
    {
     "name": "stdout",
     "output_type": "stream",
     "text": [
      "Epoch 8/10:\n",
      "  Train Loss: 0.4591, Train Acc: 79.87%\n",
      "  Test Loss: 0.4330, Test Acc: 82.69%\n",
      "--------------------------------------------------\n"
     ]
    },
    {
     "name": "stderr",
     "output_type": "stream",
     "text": [
      "Epoch 9/10 [Train]: 100%|██████████| 20/20 [00:00<00:00, 38.11it/s, Loss=0.4050, Acc=79.87%]\n"
     ]
    },
    {
     "name": "stdout",
     "output_type": "stream",
     "text": [
      "Epoch 9/10:\n",
      "  Train Loss: 0.4454, Train Acc: 79.87%\n",
      "  Test Loss: 0.4275, Test Acc: 82.69%\n",
      "--------------------------------------------------\n"
     ]
    },
    {
     "name": "stderr",
     "output_type": "stream",
     "text": [
      "Epoch 10/10 [Train]: 100%|██████████| 20/20 [00:00<00:00, 29.96it/s, Loss=0.5391, Acc=79.71%]\n"
     ]
    },
    {
     "name": "stdout",
     "output_type": "stream",
     "text": [
      "Epoch 10/10:\n",
      "  Train Loss: 0.4447, Train Acc: 79.71%\n",
      "  Test Loss: 0.4158, Test Acc: 77.56%\n",
      "--------------------------------------------------\n",
      "Model saved to models/MLP_classes_2_7.pth\n",
      "Completed training MLP on classes ['2', '7']\n",
      "\n",
      "Training CNN model...\n"
     ]
    },
    {
     "name": "stderr",
     "output_type": "stream",
     "text": [
      "Epoch 1/10 [Train]: 100%|██████████| 20/20 [00:01<00:00, 11.43it/s, Loss=0.6629, Acc=57.17%]\n"
     ]
    },
    {
     "name": "stdout",
     "output_type": "stream",
     "text": [
      "Epoch 1/10:\n",
      "  Train Loss: 0.6893, Train Acc: 57.17%\n",
      "  Test Loss: 0.6561, Test Acc: 80.13%\n",
      "--------------------------------------------------\n"
     ]
    },
    {
     "name": "stderr",
     "output_type": "stream",
     "text": [
      "Epoch 2/10 [Train]: 100%|██████████| 20/20 [00:02<00:00,  7.59it/s, Loss=0.4444, Acc=75.52%]\n"
     ]
    },
    {
     "name": "stdout",
     "output_type": "stream",
     "text": [
      "Epoch 2/10:\n",
      "  Train Loss: 0.5896, Train Acc: 75.52%\n",
      "  Test Loss: 0.4468, Test Acc: 80.13%\n",
      "--------------------------------------------------\n"
     ]
    },
    {
     "name": "stderr",
     "output_type": "stream",
     "text": [
      "Epoch 3/10 [Train]: 100%|██████████| 20/20 [00:03<00:00,  6.23it/s, Loss=0.4852, Acc=80.35%]\n"
     ]
    },
    {
     "name": "stdout",
     "output_type": "stream",
     "text": [
      "Epoch 3/10:\n",
      "  Train Loss: 0.4565, Train Acc: 80.35%\n",
      "  Test Loss: 0.3994, Test Acc: 81.41%\n",
      "--------------------------------------------------\n"
     ]
    },
    {
     "name": "stderr",
     "output_type": "stream",
     "text": [
      "Epoch 4/10 [Train]: 100%|██████████| 20/20 [00:02<00:00,  8.92it/s, Loss=0.2352, Acc=84.38%]\n"
     ]
    },
    {
     "name": "stdout",
     "output_type": "stream",
     "text": [
      "Epoch 4/10:\n",
      "  Train Loss: 0.3846, Train Acc: 84.38%\n",
      "  Test Loss: 0.3552, Test Acc: 85.26%\n",
      "--------------------------------------------------\n"
     ]
    },
    {
     "name": "stderr",
     "output_type": "stream",
     "text": [
      "Epoch 5/10 [Train]: 100%|██████████| 20/20 [00:01<00:00, 12.18it/s, Loss=0.2302, Acc=86.15%]\n"
     ]
    },
    {
     "name": "stdout",
     "output_type": "stream",
     "text": [
      "Epoch 5/10:\n",
      "  Train Loss: 0.3430, Train Acc: 86.15%\n",
      "  Test Loss: 0.3367, Test Acc: 86.54%\n",
      "--------------------------------------------------\n"
     ]
    },
    {
     "name": "stderr",
     "output_type": "stream",
     "text": [
      "Epoch 6/10 [Train]: 100%|██████████| 20/20 [00:01<00:00, 10.57it/s, Loss=0.3074, Acc=85.02%]\n"
     ]
    },
    {
     "name": "stdout",
     "output_type": "stream",
     "text": [
      "Epoch 6/10:\n",
      "  Train Loss: 0.3245, Train Acc: 85.02%\n",
      "  Test Loss: 0.3628, Test Acc: 81.41%\n",
      "--------------------------------------------------\n"
     ]
    },
    {
     "name": "stderr",
     "output_type": "stream",
     "text": [
      "Epoch 7/10 [Train]: 100%|██████████| 20/20 [00:01<00:00, 11.40it/s, Loss=0.6738, Acc=87.92%]\n"
     ]
    },
    {
     "name": "stdout",
     "output_type": "stream",
     "text": [
      "Epoch 7/10:\n",
      "  Train Loss: 0.3190, Train Acc: 87.92%\n",
      "  Test Loss: 0.2722, Test Acc: 89.74%\n",
      "--------------------------------------------------\n"
     ]
    },
    {
     "name": "stderr",
     "output_type": "stream",
     "text": [
      "Epoch 8/10 [Train]: 100%|██████████| 20/20 [00:01<00:00, 18.12it/s, Loss=0.2392, Acc=89.05%]\n"
     ]
    },
    {
     "name": "stdout",
     "output_type": "stream",
     "text": [
      "Epoch 8/10:\n",
      "  Train Loss: 0.2513, Train Acc: 89.05%\n",
      "  Test Loss: 0.3145, Test Acc: 82.69%\n",
      "--------------------------------------------------\n"
     ]
    },
    {
     "name": "stderr",
     "output_type": "stream",
     "text": [
      "Epoch 9/10 [Train]: 100%|██████████| 20/20 [00:01<00:00, 14.60it/s, Loss=0.2204, Acc=89.86%]\n"
     ]
    },
    {
     "name": "stdout",
     "output_type": "stream",
     "text": [
      "Epoch 9/10:\n",
      "  Train Loss: 0.2454, Train Acc: 89.86%\n",
      "  Test Loss: 0.2589, Test Acc: 89.74%\n",
      "--------------------------------------------------\n"
     ]
    },
    {
     "name": "stderr",
     "output_type": "stream",
     "text": [
      "Epoch 10/10 [Train]: 100%|██████████| 20/20 [00:00<00:00, 20.20it/s, Loss=0.3275, Acc=90.98%]\n"
     ]
    },
    {
     "name": "stdout",
     "output_type": "stream",
     "text": [
      "Epoch 10/10:\n",
      "  Train Loss: 0.2204, Train Acc: 90.98%\n",
      "  Test Loss: 0.2584, Test Acc: 91.67%\n",
      "--------------------------------------------------\n",
      "Model saved to models/CNN_classes_2_7.pth\n",
      "Completed training CNN on classes ['2', '7']\n",
      "\n",
      "🎉 All training completed!\n",
      "To view TensorBoard logs, run: tensorboard --logdir=runs\n"
     ]
    }
   ],
   "source": [
    "### START CODE HERE ###\n",
    "device = torch.device('cuda' if torch.cuda.is_available() else 'cpu')\n",
    "print(f'Using device: {device}')\n",
    "\n",
    "# Define class combinations to train on\n",
    "class_combinations = [\n",
    "    ['0', '1'], ['0', '2'], ['0', '3'], ['0', '4'], ['0', '5'],\n",
    "    ['0', '6'], ['0', '7'], ['0', '8'], ['0', '9'],\n",
    "    ['1', '2'], ['1', '3'], ['1', '4'], ['1', '5'], ['1', '6'],\n",
    "    ['1', '7'], ['1', '8'], ['1', '9']\n",
    "]\n",
    "\n",
    "# You can also use just a few combinations for faster testing\n",
    "class_combinations = [['0', '9'], ['1', '8'], ['2', '7']]  # Example subset\n",
    "\n",
    "# Define model types\n",
    "model_types = ['NN', 'MLP', 'CNN']\n",
    "\n",
    "# Training parameters\n",
    "epochs = 10\n",
    "learning_rate = 0.001\n",
    "\n",
    "# Create directories for saving models\n",
    "os.makedirs('models', exist_ok=True)\n",
    "os.makedirs('runs', exist_ok=True)\n",
    "\n",
    "# Train all combinations\n",
    "for class_pair in class_combinations:\n",
    "    print(f\"\\n{'='*60}\")\n",
    "    print(f\"Training on classes: {class_pair}\")\n",
    "    print(f\"{'='*60}\")\n",
    "    \n",
    "    # Load data for this class pair\n",
    "    train_loader, test_loader = load_data(\"thai-handwriting-number.appspot.com\", class_pair)\n",
    "    \n",
    "    for model_name in model_types:\n",
    "        print(f\"\\nTraining {model_name} model...\")\n",
    "        \n",
    "        # Initialize model\n",
    "        if model_name == 'NN':\n",
    "            model = NN()\n",
    "        elif model_name == 'MLP':\n",
    "            model = MLP()\n",
    "        elif model_name == 'CNN':\n",
    "            model = CNN()\n",
    "        \n",
    "        # Initialize optimizer and loss function\n",
    "        optimizer = torch.optim.Adam(model.parameters(), lr=learning_rate)\n",
    "        criterion = nn.BCELoss()  # Binary Cross Entropy for binary classification\n",
    "        \n",
    "        # Setup TensorBoard writer\n",
    "        writer = SummaryWriter(f'runs/{model_name}_classes_{\"_\".join(class_pair)}')\n",
    "        \n",
    "        # Define checkpoint path\n",
    "        checkpoint_path = f'models/{model_name}_classes_{\"_\".join(class_pair)}.pth'\n",
    "        \n",
    "        # Train the model\n",
    "        train(\n",
    "            class_names=class_pair,\n",
    "            model=model,\n",
    "            opt=optimizer,\n",
    "            loss_fn=criterion,\n",
    "            train_loader=train_loader,\n",
    "            test_loader=test_loader,\n",
    "            epochs=epochs,\n",
    "            writer=writer,\n",
    "            checkpoint_path=checkpoint_path,\n",
    "            device=device\n",
    "        )\n",
    "        \n",
    "        writer.close()\n",
    "        print(f\"Completed training {model_name} on classes {class_pair}\")\n",
    "\n",
    "print(\"\\n🎉 All training completed!\")\n",
    "print(\"To view TensorBoard logs, run: tensorboard --logdir=runs\")\n",
    "\n",
    "### END CODE HERE ###"
   ]
  },
  {
   "cell_type": "markdown",
   "metadata": {},
   "source": [
    "Try to load the weights into the model and the confusion matrix for each model with every combination of numbers that you've obtained, as shown in the expected output.\n",
    "\n",
    "\n",
    "<details>\n",
    "<summary>\n",
    "<font size=\"3\" color=\"orange\">\n",
    "<b>Expected output</b>\n",
    "</font>\n",
    "</summary>\n",
    "\n",
    "- The output should resemble this, but not be identical\n",
    "This is just an example of NN. You should have three models: NN, MLP, and CNN, with one model per plot.\n",
    "\n",
    "![image.png](https://github.com/Digital-Image-Processing-Laboratory/Image-Processing-Course-2025/blob/main/Lab4_NN-and-CNN/assets/09.png?raw=true)\n",
    "\n",
    "</details>"
   ]
  },
  {
   "cell_type": "code",
   "execution_count": 8,
   "metadata": {},
   "outputs": [
    {
     "name": "stdout",
     "output_type": "stream",
     "text": [
      "\n",
      "============================================================\n",
      "Evaluating models on classes: ['0', '9']\n",
      "============================================================\n",
      "📃Train Dataset:\n",
      "\tNumber of images in class 0: 314\n",
      "\tNumber of images in class 1: 306\n",
      "\tNumber of training samples: 620\n",
      "\n",
      "📃Test Dataset:\n",
      "\tNumber of images in class 0: 74\n",
      "\tNumber of images in class 1: 82\n",
      "\tNumber of testing samples: 156\n",
      "\n",
      "NN Results:\n",
      "Accuracy: 71.15%\n",
      "Classification Report:\n",
      "              precision    recall  f1-score   support\n",
      "\n",
      "     Class 0       0.62      0.99      0.76        74\n",
      "     Class 9       0.97      0.46      0.63        82\n",
      "\n",
      "    accuracy                           0.71       156\n",
      "   macro avg       0.80      0.72      0.70       156\n",
      "weighted avg       0.81      0.71      0.69       156\n",
      "\n",
      "\n",
      "MLP Results:\n",
      "Accuracy: 79.49%\n",
      "Classification Report:\n",
      "              precision    recall  f1-score   support\n",
      "\n",
      "     Class 0       0.75      0.85      0.80        74\n",
      "     Class 9       0.85      0.74      0.79        82\n",
      "\n",
      "    accuracy                           0.79       156\n",
      "   macro avg       0.80      0.80      0.79       156\n",
      "weighted avg       0.80      0.79      0.79       156\n",
      "\n"
     ]
    },
    {
     "name": "stderr",
     "output_type": "stream",
     "text": [
      "C:\\Users\\asus\\AppData\\Roaming\\Python\\Python313\\site-packages\\torch\\utils\\data\\dataloader.py:665: UserWarning: 'pin_memory' argument is set as true but no accelerator is found, then device pinned memory won't be used.\n",
      "  warnings.warn(warn_msg)\n",
      "C:\\Users\\asus\\AppData\\Roaming\\Python\\Python313\\site-packages\\torch\\utils\\data\\dataloader.py:665: UserWarning: 'pin_memory' argument is set as true but no accelerator is found, then device pinned memory won't be used.\n",
      "  warnings.warn(warn_msg)\n"
     ]
    },
    {
     "name": "stdout",
     "output_type": "stream",
     "text": [
      "\n",
      "CNN Results:\n",
      "Accuracy: 85.90%\n",
      "Classification Report:\n",
      "              precision    recall  f1-score   support\n",
      "\n",
      "     Class 0       0.80      0.95      0.86        74\n",
      "     Class 9       0.94      0.78      0.85        82\n",
      "\n",
      "    accuracy                           0.86       156\n",
      "   macro avg       0.87      0.86      0.86       156\n",
      "weighted avg       0.87      0.86      0.86       156\n",
      "\n"
     ]
    },
    {
     "data": {
      "image/png": "[encoded data removed]",
      "text/plain": [
       "<Figure size 1500x400 with 6 Axes>"
      ]
     },
     "metadata": {},
     "output_type": "display_data"
    },
    {
     "name": "stdout",
     "output_type": "stream",
     "text": [
      "\n",
      "============================================================\n",
      "Evaluating models on classes: ['1', '8']\n",
      "============================================================\n",
      "📃Train Dataset:\n",
      "\tNumber of images in class 0: 309\n",
      "\tNumber of images in class 1: 312\n",
      "\tNumber of training samples: 621\n",
      "\n",
      "📃Test Dataset:\n",
      "\tNumber of images in class 0: 80\n",
      "\tNumber of images in class 1: 76\n",
      "\tNumber of testing samples: 156\n",
      "\n",
      "NN Results:\n",
      "Accuracy: 80.13%\n",
      "Classification Report:\n",
      "              precision    recall  f1-score   support\n",
      "\n",
      "     Class 1       0.81      0.80      0.81        80\n",
      "     Class 8       0.79      0.80      0.80        76\n",
      "\n",
      "    accuracy                           0.80       156\n",
      "   macro avg       0.80      0.80      0.80       156\n",
      "weighted avg       0.80      0.80      0.80       156\n",
      "\n",
      "\n",
      "MLP Results:\n",
      "Accuracy: 81.41%\n",
      "Classification Report:\n",
      "              precision    recall  f1-score   support\n",
      "\n",
      "     Class 1       0.75      0.95      0.84        80\n",
      "     Class 8       0.93      0.67      0.78        76\n",
      "\n",
      "    accuracy                           0.81       156\n",
      "   macro avg       0.84      0.81      0.81       156\n",
      "weighted avg       0.84      0.81      0.81       156\n",
      "\n"
     ]
    },
    {
     "name": "stderr",
     "output_type": "stream",
     "text": [
      "C:\\Users\\asus\\AppData\\Roaming\\Python\\Python313\\site-packages\\torch\\utils\\data\\dataloader.py:665: UserWarning: 'pin_memory' argument is set as true but no accelerator is found, then device pinned memory won't be used.\n",
      "  warnings.warn(warn_msg)\n",
      "C:\\Users\\asus\\AppData\\Roaming\\Python\\Python313\\site-packages\\torch\\utils\\data\\dataloader.py:665: UserWarning: 'pin_memory' argument is set as true but no accelerator is found, then device pinned memory won't be used.\n",
      "  warnings.warn(warn_msg)\n",
      "C:\\Users\\asus\\AppData\\Roaming\\Python\\Python313\\site-packages\\torch\\utils\\data\\dataloader.py:665: UserWarning: 'pin_memory' argument is set as true but no accelerator is found, then device pinned memory won't be used.\n",
      "  warnings.warn(warn_msg)\n"
     ]
    },
    {
     "name": "stdout",
     "output_type": "stream",
     "text": [
      "\n",
      "CNN Results:\n",
      "Accuracy: 95.51%\n",
      "Classification Report:\n",
      "              precision    recall  f1-score   support\n",
      "\n",
      "     Class 1       0.99      0.93      0.95        80\n",
      "     Class 8       0.93      0.99      0.96        76\n",
      "\n",
      "    accuracy                           0.96       156\n",
      "   macro avg       0.96      0.96      0.96       156\n",
      "weighted avg       0.96      0.96      0.96       156\n",
      "\n"
     ]
    },
    {
     "data": {
      "image/png": "[encoded data removed]",
      "text/plain": [
       "<Figure size 1500x400 with 6 Axes>"
      ]
     },
     "metadata": {},
     "output_type": "display_data"
    },
    {
     "name": "stdout",
     "output_type": "stream",
     "text": [
      "\n",
      "============================================================\n",
      "Evaluating models on classes: ['2', '7']\n",
      "============================================================\n",
      "📃Train Dataset:\n",
      "\tNumber of images in class 0: 309\n",
      "\tNumber of images in class 1: 312\n",
      "\tNumber of training samples: 621\n",
      "\n",
      "📃Test Dataset:\n",
      "\tNumber of images in class 0: 80\n",
      "\tNumber of images in class 1: 76\n",
      "\tNumber of testing samples: 156\n",
      "\n",
      "NN Results:\n",
      "Accuracy: 82.69%\n",
      "Classification Report:\n",
      "              precision    recall  f1-score   support\n",
      "\n",
      "     Class 2       0.87      0.78      0.82        80\n",
      "     Class 7       0.79      0.88      0.83        76\n",
      "\n",
      "    accuracy                           0.83       156\n",
      "   macro avg       0.83      0.83      0.83       156\n",
      "weighted avg       0.83      0.83      0.83       156\n",
      "\n",
      "\n",
      "MLP Results:\n",
      "Accuracy: 80.13%\n",
      "Classification Report:\n",
      "              precision    recall  f1-score   support\n",
      "\n",
      "     Class 2       0.78      0.85      0.81        80\n",
      "     Class 7       0.83      0.75      0.79        76\n",
      "\n",
      "    accuracy                           0.80       156\n",
      "   macro avg       0.80      0.80      0.80       156\n",
      "weighted avg       0.80      0.80      0.80       156\n",
      "\n"
     ]
    },
    {
     "name": "stderr",
     "output_type": "stream",
     "text": [
      "C:\\Users\\asus\\AppData\\Roaming\\Python\\Python313\\site-packages\\torch\\utils\\data\\dataloader.py:665: UserWarning: 'pin_memory' argument is set as true but no accelerator is found, then device pinned memory won't be used.\n",
      "  warnings.warn(warn_msg)\n",
      "C:\\Users\\asus\\AppData\\Roaming\\Python\\Python313\\site-packages\\torch\\utils\\data\\dataloader.py:665: UserWarning: 'pin_memory' argument is set as true but no accelerator is found, then device pinned memory won't be used.\n",
      "  warnings.warn(warn_msg)\n",
      "C:\\Users\\asus\\AppData\\Roaming\\Python\\Python313\\site-packages\\torch\\utils\\data\\dataloader.py:665: UserWarning: 'pin_memory' argument is set as true but no accelerator is found, then device pinned memory won't be used.\n",
      "  warnings.warn(warn_msg)\n"
     ]
    },
    {
     "name": "stdout",
     "output_type": "stream",
     "text": [
      "\n",
      "CNN Results:\n",
      "Accuracy: 87.82%\n",
      "Classification Report:\n",
      "              precision    recall  f1-score   support\n",
      "\n",
      "     Class 2       0.97      0.79      0.87        80\n",
      "     Class 7       0.81      0.97      0.89        76\n",
      "\n",
      "    accuracy                           0.88       156\n",
      "   macro avg       0.89      0.88      0.88       156\n",
      "weighted avg       0.89      0.88      0.88       156\n",
      "\n"
     ]
    },
    {
     "data": {
      "image/png": "[encoded data removed]",
      "text/plain": [
       "<Figure size 1500x400 with 6 Axes>"
      ]
     },
     "metadata": {},
     "output_type": "display_data"
    },
    {
     "name": "stdout",
     "output_type": "stream",
     "text": [
      "\n",
      "================================================================================\n",
      "SUMMARY OF ALL RESULTS\n",
      "================================================================================\n",
      "NN_0_9: 71.15%\n",
      "MLP_0_9: 79.49%\n",
      "CNN_0_9: 85.90%\n",
      "NN_1_8: 80.13%\n",
      "MLP_1_8: 81.41%\n",
      "CNN_1_8: 95.51%\n",
      "NN_2_7: 82.69%\n",
      "MLP_2_7: 80.13%\n",
      "CNN_2_7: 87.82%\n"
     ]
    }
   ],
   "source": [
    "### START CODE HERE ###\n",
    "def evaluate_model(model, test_loader, device):\n",
    "    \"\"\"Evaluate model and return predictions and true labels\"\"\"\n",
    "    model.eval()\n",
    "    all_preds = []\n",
    "    all_labels = []\n",
    "    \n",
    "    with torch.no_grad():\n",
    "        for data, target in test_loader:\n",
    "            data, target = data.to(device), target.to(device)\n",
    "            output = model(data).squeeze()\n",
    "            predicted = (output > 0.5).float()\n",
    "            \n",
    "            all_preds.extend(predicted.cpu().numpy())\n",
    "            all_labels.extend(target.cpu().numpy())\n",
    "    \n",
    "    return np.array(all_preds), np.array(all_labels)\n",
    "\n",
    "# Evaluate all trained models\n",
    "class_combinations = [['0', '9'], ['1', '8'], ['2', '7']]  # Same as training\n",
    "model_types = ['NN', 'MLP', 'CNN']\n",
    "\n",
    "results = {}\n",
    "\n",
    "for class_pair in class_combinations:\n",
    "    print(f\"\\n{'='*60}\")\n",
    "    print(f\"Evaluating models on classes: {class_pair}\")\n",
    "    print(f\"{'='*60}\")\n",
    "    \n",
    "    # Load test data\n",
    "    _, test_loader = load_data(\"thai-handwriting-number.appspot.com\", class_pair)\n",
    "    \n",
    "    # Create subplot for all models\n",
    "    fig, axes = plt.subplots(1, 3, figsize=(15, 4))\n",
    "    fig.suptitle(f'Confusion Matrices for Classes {class_pair[0]} vs {class_pair[1]}', fontsize=16)\n",
    "    \n",
    "    for i, model_name in enumerate(model_types):\n",
    "        # Load trained model\n",
    "        checkpoint_path = f'models/{model_name}_classes_{\"_\".join(class_pair)}.pth'\n",
    "        \n",
    "        if os.path.exists(checkpoint_path):\n",
    "            # Initialize model\n",
    "            if model_name == 'NN':\n",
    "                model = NN()\n",
    "            elif model_name == 'MLP':\n",
    "                model = MLP()\n",
    "            elif model_name == 'CNN':\n",
    "                model = CNN()\n",
    "            \n",
    "            # Load weights\n",
    "            checkpoint = torch.load(checkpoint_path, map_location=device)\n",
    "            model.load_state_dict(checkpoint['model_state_dict'])\n",
    "            model.to(device)\n",
    "            \n",
    "            # Evaluate model\n",
    "            y_pred, y_true = evaluate_model(model, test_loader, device)\n",
    "            \n",
    "            # Calculate accuracy\n",
    "            accuracy = (y_pred == y_true).mean() * 100\n",
    "            \n",
    "            # Create confusion matrix\n",
    "            cm = confusion_matrix(y_true, y_pred)\n",
    "            \n",
    "            # Plot confusion matrix\n",
    "            sns.heatmap(cm, annot=True, fmt='d', cmap='Blues', \n",
    "                       xticklabels=[f'Class {class_pair[0]}', f'Class {class_pair[1]}'],\n",
    "                       yticklabels=[f'Class {class_pair[0]}', f'Class {class_pair[1]}'],\n",
    "                       ax=axes[i])\n",
    "            axes[i].set_title(f'{model_name}\\nAccuracy: {accuracy:.2f}%')\n",
    "            axes[i].set_xlabel('Predicted')\n",
    "            axes[i].set_ylabel('True')\n",
    "            \n",
    "            # Store results\n",
    "            key = f\"{model_name}_{'_'.join(class_pair)}\"\n",
    "            results[key] = {\n",
    "                'accuracy': accuracy,\n",
    "                'confusion_matrix': cm,\n",
    "                'classification_report': classification_report(y_true, y_pred, \n",
    "                                                              target_names=[f'Class {class_pair[0]}', f'Class {class_pair[1]}'])\n",
    "            }\n",
    "            \n",
    "            print(f\"\\n{model_name} Results:\")\n",
    "            print(f\"Accuracy: {accuracy:.2f}%\")\n",
    "            print(\"Classification Report:\")\n",
    "            print(results[key]['classification_report'])\n",
    "            \n",
    "        else:\n",
    "            print(f\"Model {checkpoint_path} not found!\")\n",
    "            axes[i].text(0.5, 0.5, 'Model not found', ha='center', va='center', transform=axes[i].transAxes)\n",
    "            axes[i].set_title(f'{model_name}\\nNot Available')\n",
    "    \n",
    "    plt.tight_layout()\n",
    "    plt.show()\n",
    "\n",
    "# Summary of results\n",
    "print(f\"\\n{'='*80}\")\n",
    "print(\"SUMMARY OF ALL RESULTS\")\n",
    "print(f\"{'='*80}\")\n",
    "\n",
    "for key, result in results.items():\n",
    "    print(f\"{key}: {result['accuracy']:.2f}%\")\n",
    "\n",
    "### END CODE HERE ###"
   ]
  },
  {
   "cell_type": "markdown",
   "metadata": {},
   "source": [
    "Questions\n",
    "1. How does the performance of different models vary across different pairs of numbers in our dataset?\n",
    "2. Can you identify the number pairs where the Neural Network model performs best and worst? Explain why the NN model is able/unable to classify these specific pairs based on the visualization of feature maps of each node in each layer.\n",
    "3. Analyze and compare how MLP and CNN models perform on the dataset compared to the Neural Network model.  Identify scenarios where MLP and CNN outperform or underperform the NN. Explain the reasons behind these performance differences. Consider factors like the underlying structure of the data and the specific strengths of each model architecture.\n",
    "4. According to your observations from questions 1-3, propose specific strategies to improve the performance of each model (NN, MLP, CNN) on this dataset. Consider factors such as data preprocessing, data augmentation, or potential changes to the model architecture itself. Justify your suggestions based on the strengths and limitations identified in the previous questions.\n"
   ]
  }
 ],
 "metadata": {
  "kernelspec": {
   "display_name": "Python 3",
   "language": "python",
   "name": "python3"
  },
  "language_info": {
   "codemirror_mode": {
    "name": "ipython",
    "version": 3
   },
   "file_extension": ".py",
   "mimetype": "text/x-python",
   "name": "python",
   "nbconvert_exporter": "python",
   "pygments_lexer": "ipython3",
   "version": "3.13.2"
  }
 },
 "nbformat": 4,
 "nbformat_minor": 2
}
